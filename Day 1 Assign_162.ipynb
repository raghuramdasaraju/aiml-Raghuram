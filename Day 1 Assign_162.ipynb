{
 "cells": [
  {
   "cell_type": "code",
   "execution_count": 4,
   "id": "5e1e3c3a-206d-4a78-9aea-2bd9a5f0695e",
   "metadata": {},
   "outputs": [
    {
     "name": "stdout",
     "output_type": "stream",
     "text": [
      "Integer Variable:\n",
      "Value: 10\n",
      "Type: <class 'int'>\n",
      "\n",
      "Float Variable:\n",
      "Value: 20.5\n",
      "Type: <class 'float'>\n",
      "\n",
      "String Variable:\n",
      "Value: Hello, World!\n",
      "Type: <class 'str'>\n",
      "\n",
      "Boolean Variable:\n",
      "Value: True\n",
      "Type: <class 'bool'>\n"
     ]
    }
   ],
   "source": [
    "# Declare variables of different data types\n",
    "integer_var = 10          # Integer\n",
    "float_var = 20.5          # Float\n",
    "string_var = \"Hello, World!\"  # String\n",
    "boolean_var = True        # Boolean\n",
    "\n",
    "# Print each variable and its type\n",
    "print(\"Integer Variable:\")\n",
    "print(\"Value:\", integer_var)\n",
    "print(\"Type:\", type(integer_var))\n",
    "print()\n",
    "\n",
    "print(\"Float Variable:\")\n",
    "print(\"Value:\", float_var)\n",
    "print(\"Type:\", type(float_var))\n",
    "print()\n",
    "\n",
    "print(\"String Variable:\")\n",
    "print(\"Value:\", string_var)\n",
    "print(\"Type:\", type(string_var))\n",
    "print()\n",
    "\n",
    "print(\"Boolean Variable:\")\n",
    "print(\"Value:\", boolean_var)\n",
    "print(\"Type:\", type(boolean_var))\n"
   ]
  },
  {
   "cell_type": "code",
   "execution_count": null,
   "id": "c99a307b-3fd6-40b9-a645-115254936f5c",
   "metadata": {},
   "outputs": [],
   "source": []
  }
 ],
 "metadata": {
  "kernelspec": {
   "display_name": "Python [conda env:base] *",
   "language": "python",
   "name": "conda-base-py"
  },
  "language_info": {
   "codemirror_mode": {
    "name": "ipython",
    "version": 3
   },
   "file_extension": ".py",
   "mimetype": "text/x-python",
   "name": "python",
   "nbconvert_exporter": "python",
   "pygments_lexer": "ipython3",
   "version": "3.12.7"
  }
 },
 "nbformat": 4,
 "nbformat_minor": 5
}
