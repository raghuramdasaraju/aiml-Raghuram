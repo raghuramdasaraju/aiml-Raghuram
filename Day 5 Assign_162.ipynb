{
 "cells": [
  {
   "cell_type": "code",
   "execution_count": 1,
   "id": "f4e2d141-83ea-4f35-b62c-b455288e3bf7",
   "metadata": {},
   "outputs": [
    {
     "name": "stdin",
     "output_type": "stream",
     "text": [
      "Enter a positive integer n:  58\n"
     ]
    },
    {
     "name": "stdout",
     "output_type": "stream",
     "text": [
      "\n",
      "Numbers from 1 to n:\n",
      "1\n",
      "2\n",
      "3\n",
      "4\n",
      "5\n",
      "6\n",
      "7\n",
      "8\n",
      "9\n",
      "10\n",
      "11\n",
      "12\n",
      "13\n",
      "14\n",
      "15\n",
      "16\n",
      "17\n",
      "18\n",
      "19\n",
      "20\n",
      "21\n",
      "22\n",
      "23\n",
      "24\n",
      "25\n",
      "26\n",
      "27\n",
      "28\n",
      "29\n",
      "30\n",
      "31\n",
      "32\n",
      "33\n",
      "34\n",
      "35\n",
      "36\n",
      "37\n",
      "38\n",
      "39\n",
      "40\n",
      "41\n",
      "42\n",
      "43\n",
      "44\n",
      "45\n",
      "46\n",
      "47\n",
      "48\n",
      "49\n",
      "50\n",
      "51\n",
      "52\n",
      "53\n",
      "54\n",
      "55\n",
      "56\n",
      "57\n",
      "58\n",
      "\n",
      "The sum of all numbers from 1 to 58 is: 1711\n"
     ]
    }
   ],
   "source": [
    "# Step 1: Ask the user to enter a positive integer `n`\n",
    "n = int(input(\"Enter a positive integer n: \"))\n",
    "\n",
    "# Step 2: Use a `for` loop to print all numbers from 1 to `n`\n",
    "print(\"\\nNumbers from 1 to n:\")\n",
    "for i in range(1, n + 1):\n",
    "    print(i)\n",
    "\n",
    "# Step 3: Use a `while` loop to calculate the sum of all numbers from 1 to `n`\n",
    "total_sum = 0\n",
    "current = 1\n",
    "\n",
    "while current <= n:\n",
    "    total_sum += current\n",
    "    current += 1\n",
    "\n",
    "# Print the result\n",
    "print(f\"\\nThe sum of all numbers from 1 to {n} is: {total_sum}\")\n"
   ]
  },
  {
   "cell_type": "code",
   "execution_count": 3,
   "id": "d0e4ee16-3c3d-4887-ba8b-e29e59eee8cb",
   "metadata": {},
   "outputs": [
    {
     "name": "stdin",
     "output_type": "stream",
     "text": [
      "Enter a positive integer:  5\n"
     ]
    },
    {
     "name": "stdout",
     "output_type": "stream",
     "text": [
      "The square of 5 is: 25\n"
     ]
    }
   ],
   "source": [
    "# Step 1: Define the function to calculate the square of a number\n",
    "def calculate_square(n):\n",
    "    return n ** 2\n",
    "\n",
    "# Step 2: Main program\n",
    "# Ask the user to input a positive integer\n",
    "number = int(input(\"Enter a positive integer: \"))\n",
    "\n",
    "# Step 3: Call the calculate_square function and display the result\n",
    "result = calculate_square(number)\n",
    "print(f\"The square of {number} is: {result}\")\n"
   ]
  },
  {
   "cell_type": "code",
   "execution_count": null,
   "id": "2d65573b-82bd-4d09-ba11-e42bf87cc73f",
   "metadata": {},
   "outputs": [],
   "source": []
  }
 ],
 "metadata": {
  "kernelspec": {
   "display_name": "Python [conda env:base] *",
   "language": "python",
   "name": "conda-base-py"
  },
  "language_info": {
   "codemirror_mode": {
    "name": "ipython",
    "version": 3
   },
   "file_extension": ".py",
   "mimetype": "text/x-python",
   "name": "python",
   "nbconvert_exporter": "python",
   "pygments_lexer": "ipython3",
   "version": "3.12.7"
  }
 },
 "nbformat": 4,
 "nbformat_minor": 5
}
