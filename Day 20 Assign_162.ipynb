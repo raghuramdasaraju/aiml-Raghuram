{
 "cells": [
  {
   "cell_type": "code",
   "execution_count": 11,
   "id": "ec21db4c-0209-4e56-962b-c09f649414e6",
   "metadata": {},
   "outputs": [
    {
     "name": "stdout",
     "output_type": "stream",
     "text": [
      "The file 'customer_reviews.csv' was not found. Creating a sample dataset...\n",
      "Sample dataset created as 'customer_reviews.csv'\n",
      "Missing Values Summary:\n",
      "Review_Text         1\n",
      "Rating              1\n",
      "Customer_Age        1\n",
      "Product_Price       0\n",
      "Product_Category    0\n",
      "dtype: int64\n"
     ]
    },
    {
     "name": "stderr",
     "output_type": "stream",
     "text": [
      "C:\\Users\\palla\\AppData\\Local\\Temp\\ipykernel_11156\\3616228258.py:33: FutureWarning: A value is trying to be set on a copy of a DataFrame or Series through chained assignment using an inplace method.\n",
      "The behavior will change in pandas 3.0. This inplace method will never work because the intermediate object on which we are setting values always behaves as a copy.\n",
      "\n",
      "For example, when doing 'df[col].method(value, inplace=True)', try using 'df.method({col: value}, inplace=True)' or df[col] = df[col].method(value) instead, to perform the operation inplace on the original object.\n",
      "\n",
      "\n",
      "  df['Rating'].fillna(df['Rating'].median(), inplace=True)\n",
      "C:\\Users\\palla\\AppData\\Local\\Temp\\ipykernel_11156\\3616228258.py:35: FutureWarning: A value is trying to be set on a copy of a DataFrame or Series through chained assignment using an inplace method.\n",
      "The behavior will change in pandas 3.0. This inplace method will never work because the intermediate object on which we are setting values always behaves as a copy.\n",
      "\n",
      "For example, when doing 'df[col].method(value, inplace=True)', try using 'df.method({col: value}, inplace=True)' or df[col] = df[col].method(value) instead, to perform the operation inplace on the original object.\n",
      "\n",
      "\n",
      "  df['Customer_Age'].fillna(df['Customer_Age'].median(), inplace=True)\n",
      "C:\\Users\\palla\\AppData\\Local\\Temp\\ipykernel_11156\\3616228258.py:37: FutureWarning: A value is trying to be set on a copy of a DataFrame or Series through chained assignment using an inplace method.\n",
      "The behavior will change in pandas 3.0. This inplace method will never work because the intermediate object on which we are setting values always behaves as a copy.\n",
      "\n",
      "For example, when doing 'df[col].method(value, inplace=True)', try using 'df.method({col: value}, inplace=True)' or df[col] = df[col].method(value) instead, to perform the operation inplace on the original object.\n",
      "\n",
      "\n",
      "  df['Review_Text'].fillna(\"No review provided\", inplace=True)\n"
     ]
    },
    {
     "data": {
      "image/png": "[encoded data removed]",
      "text/plain": [
       "<Figure size 640x480 with 1 Axes>"
      ]
     },
     "metadata": {},
     "output_type": "display_data"
    },
    {
     "name": "stdout",
     "output_type": "stream",
     "text": [
      "Data Cleaning Completed. Cleaned dataset saved as 'cleaned_customer_reviews.csv'\n"
     ]
    }
   ],
   "source": [
    "import pandas as pd\n",
    "import numpy as np\n",
    "import seaborn as sns\n",
    "import matplotlib.pyplot as plt\n",
    "from sklearn.impute import SimpleImputer\n",
    "from sklearn.preprocessing import LabelEncoder\n",
    "import os\n",
    "\n",
    "# Check if file exists before loading\n",
    "data_file = \"customer_reviews.csv\"\n",
    "if not os.path.exists(data_file):\n",
    "    print(f\"The file '{data_file}' was not found. Creating a sample dataset...\")\n",
    "    data = {\n",
    "        \"Review_Text\": [\"Great product!\", \"Not worth the price\", None, \"Amazing quality!\"],\n",
    "        \"Rating\": [5, 2, None, 4],\n",
    "        \"Customer_Age\": [25, None, 32, 45],\n",
    "        \"Product_Price\": [100, 200, 150, 300],\n",
    "        \"Product_Category\": [\"Electronics\", \"Appliances\", \"Electronics\", \"Clothing\"]\n",
    "    }\n",
    "    df = pd.DataFrame(data)\n",
    "    df.to_csv(data_file, index=False)\n",
    "    print(f\"Sample dataset created as '{data_file}'\")\n",
    "else:\n",
    "    # Load dataset\n",
    "    df = pd.read_csv(data_file)\n",
    "\n",
    "# Identify missing values\n",
    "print(\"Missing Values Summary:\")\n",
    "print(df.isna().sum())\n",
    "\n",
    "# Handling missing values\n",
    "if 'Rating' in df.columns:\n",
    "    df['Rating'].fillna(df['Rating'].median(), inplace=True)\n",
    "if 'Customer_Age' in df.columns:\n",
    "    df['Customer_Age'].fillna(df['Customer_Age'].median(), inplace=True)\n",
    "if 'Review_Text' in df.columns:\n",
    "    df['Review_Text'].fillna(\"No review provided\", inplace=True)\n",
    "\n",
    "# Detect and remove duplicates\n",
    "df.drop_duplicates(subset=['Review_Text'], inplace=True)\n",
    "\n",
    "# Handle inconsistent data\n",
    "if 'Rating' in df.columns:\n",
    "    df = df[(df['Rating'] >= 1) & (df['Rating'] <= 5)]\n",
    "if 'Product_Category' in df.columns:\n",
    "    df['Product_Category'] = df['Product_Category'].str.lower().str.strip()\n",
    "\n",
    "# Identify and handle outliers\n",
    "if 'Product_Price' in df.columns:\n",
    "    sns.boxplot(x=df['Product_Price'])\n",
    "    plt.show()\n",
    "    df = df[(df['Product_Price'] > df['Product_Price'].quantile(0.01)) & (df['Product_Price'] < df['Product_Price'].quantile(0.99))]\n",
    "\n",
    "# Convert categorical data to numerical format\n",
    "if 'Product_Category' in df.columns:\n",
    "    label_encoder = LabelEncoder()\n",
    "    df['Product_Category'] = label_encoder.fit_transform(df['Product_Category'])\n",
    "\n",
    "# Save cleaned dataset\n",
    "cleaned_file = \"cleaned_customer_reviews.csv\"\n",
    "df.to_csv(cleaned_file, index=False)\n",
    "\n",
    "# Display completion message\n",
    "print(f\"Data Cleaning Completed. Cleaned dataset saved as '{cleaned_file}'\")\n"
   ]
  },
  {
   "cell_type": "code",
   "execution_count": null,
   "id": "0e0bb364-960c-4a5c-8658-51ec49256364",
   "metadata": {},
   "outputs": [],
   "source": []
  }
 ],
 "metadata": {
  "kernelspec": {
   "display_name": "Python [conda env:base] *",
   "language": "python",
   "name": "conda-base-py"
  },
  "language_info": {
   "codemirror_mode": {
    "name": "ipython",
    "version": 3
   },
   "file_extension": ".py",
   "mimetype": "text/x-python",
   "name": "python",
   "nbconvert_exporter": "python",
   "pygments_lexer": "ipython3",
   "version": "3.12.7"
  }
 },
 "nbformat": 4,
 "nbformat_minor": 5
}
