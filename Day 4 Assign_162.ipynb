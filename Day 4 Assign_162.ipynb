{
 "cells": [
  {
   "cell_type": "code",
   "execution_count": 1,
   "id": "b9a8a543-2070-45c7-bb78-97b04fd09204",
   "metadata": {},
   "outputs": [
    {
     "name": "stdin",
     "output_type": "stream",
     "text": [
      "Enter a positive integer n:  98\n"
     ]
    },
    {
     "name": "stdout",
     "output_type": "stream",
     "text": [
      "The sum of all even numbers between 1 and 98 is: 2450\n"
     ]
    }
   ],
   "source": [
    "# Input: A positive integer n\n",
    "n = int(input(\"Enter a positive integer n: \"))\n",
    "\n",
    "# Initialize a variable to store the sum of even numbers\n",
    "even_sum = 0\n",
    "\n",
    "# Loop through all numbers from 1 to n\n",
    "for num in range(2, n + 1, 2):  # Start from 2 and increment by 2\n",
    "    even_sum += num\n",
    "\n",
    "# Output the result\n",
    "print(f\"The sum of all even numbers between 1 and {n} is: {even_sum}\")\n"
   ]
  },
  {
   "cell_type": "code",
   "execution_count": null,
   "id": "29205872-5baa-43eb-94d2-89725c1cc1f7",
   "metadata": {},
   "outputs": [],
   "source": []
  }
 ],
 "metadata": {
  "kernelspec": {
   "display_name": "Python [conda env:base] *",
   "language": "python",
   "name": "conda-base-py"
  },
  "language_info": {
   "codemirror_mode": {
    "name": "ipython",
    "version": 3
   },
   "file_extension": ".py",
   "mimetype": "text/x-python",
   "name": "python",
   "nbconvert_exporter": "python",
   "pygments_lexer": "ipython3",
   "version": "3.12.7"
  }
 },
 "nbformat": 4,
 "nbformat_minor": 5
}
