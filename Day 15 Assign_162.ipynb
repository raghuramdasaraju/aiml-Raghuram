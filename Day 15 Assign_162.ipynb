{
 "cells": [
  {
   "cell_type": "code",
   "execution_count": 13,
   "id": "5786e2c4-d7be-4f49-b251-39acc8b06c29",
   "metadata": {},
   "outputs": [
    {
     "name": "stdout",
     "output_type": "stream",
     "text": [
      "File not found! Please select the correct dataset.\n",
      "Dataset loaded successfully!\n",
      "<class 'pandas.core.frame.DataFrame'>\n",
      "RangeIndex: 505 entries, 0 to 504\n",
      "Data columns (total 7 columns):\n",
      " #   Column          Non-Null Count  Dtype  \n",
      "---  ------          --------------  -----  \n",
      " 0   Patient_ID      505 non-null    int64  \n",
      " 1   Age             505 non-null    int64  \n",
      " 2   Gender          484 non-null    object \n",
      " 3   Blood_Pressure  475 non-null    float64\n",
      " 4   Cholesterol     485 non-null    float64\n",
      " 5   Diabetes        505 non-null    object \n",
      " 6   Heart_Disease   505 non-null    object \n",
      "dtypes: float64(2), int64(2), object(3)\n",
      "memory usage: 27.7+ KB\n"
     ]
    }
   ],
   "source": [
    "import pandas as pd\n",
    "import os\n",
    "from tkinter import Tk\n",
    "from tkinter.filedialog import askopenfilename\n",
    "\n",
    "# Check if the file exists, else prompt user to select it\n",
    "file_path = \"healthcare_dataset.csv\"\n",
    "\n",
    "if not os.path.exists(file_path):\n",
    "    print(\"File not found! Please select the correct dataset.\")\n",
    "    Tk().withdraw()  # Hide root window\n",
    "    file_path = askopenfilename(title=\"Select the healthcare dataset file\")\n",
    "\n",
    "# Load the dataset\n",
    "df = pd.read_csv(file_path)\n",
    "\n",
    "# Confirm successful loading\n",
    "print(\"Dataset loaded successfully!\")\n",
    "df.info()\n"
   ]
  },
  {
   "cell_type": "code",
   "execution_count": null,
   "id": "fe070605-e2ab-4b66-90b8-8704724fe0c2",
   "metadata": {},
   "outputs": [],
   "source": []
  }
 ],
 "metadata": {
  "kernelspec": {
   "display_name": "Python [conda env:base] *",
   "language": "python",
   "name": "conda-base-py"
  },
  "language_info": {
   "codemirror_mode": {
    "name": "ipython",
    "version": 3
   },
   "file_extension": ".py",
   "mimetype": "text/x-python",
   "name": "python",
   "nbconvert_exporter": "python",
   "pygments_lexer": "ipython3",
   "version": "3.12.7"
  }
 },
 "nbformat": 4,
 "nbformat_minor": 5
}
