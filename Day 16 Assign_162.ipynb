{
 "cells": [
  {
   "cell_type": "code",
   "execution_count": 4,
   "id": "be78f10b-8759-494f-9d25-98b58d2c4750",
   "metadata": {},
   "outputs": [
    {
     "name": "stdout",
     "output_type": "stream",
     "text": [
      "Missing values before handling:\n",
      " Patient_ID         0\n",
      "age                0\n",
      "gender            21\n",
      "blood_pressure    30\n",
      "Cholesterol       20\n",
      "Diabetes           0\n",
      "Heart_Disease      0\n",
      "dtype: int64\n",
      "Number of duplicate records: 5\n"
     ]
    },
    {
     "name": "stderr",
     "output_type": "stream",
     "text": [
      "C:\\Users\\palla\\AppData\\Local\\Temp\\ipykernel_19004\\1347377345.py:23: FutureWarning: A value is trying to be set on a copy of a DataFrame or Series through chained assignment using an inplace method.\n",
      "The behavior will change in pandas 3.0. This inplace method will never work because the intermediate object on which we are setting values always behaves as a copy.\n",
      "\n",
      "For example, when doing 'df[col].method(value, inplace=True)', try using 'df.method({col: value}, inplace=True)' or df[col] = df[col].method(value) instead, to perform the operation inplace on the original object.\n",
      "\n",
      "\n",
      "  df['age'].fillna(df['age'].median(), inplace=True)\n",
      "C:\\Users\\palla\\AppData\\Local\\Temp\\ipykernel_19004\\1347377345.py:24: FutureWarning: A value is trying to be set on a copy of a DataFrame or Series through chained assignment using an inplace method.\n",
      "The behavior will change in pandas 3.0. This inplace method will never work because the intermediate object on which we are setting values always behaves as a copy.\n",
      "\n",
      "For example, when doing 'df[col].method(value, inplace=True)', try using 'df.method({col: value}, inplace=True)' or df[col] = df[col].method(value) instead, to perform the operation inplace on the original object.\n",
      "\n",
      "\n",
      "  df['gender'].fillna(df['gender'].mode()[0], inplace=True)\n",
      "C:\\Users\\palla\\AppData\\Local\\Temp\\ipykernel_19004\\1347377345.py:25: FutureWarning: A value is trying to be set on a copy of a DataFrame or Series through chained assignment using an inplace method.\n",
      "The behavior will change in pandas 3.0. This inplace method will never work because the intermediate object on which we are setting values always behaves as a copy.\n",
      "\n",
      "For example, when doing 'df[col].method(value, inplace=True)', try using 'df.method({col: value}, inplace=True)' or df[col] = df[col].method(value) instead, to perform the operation inplace on the original object.\n",
      "\n",
      "\n",
      "  df['blood_pressure'].fillna(df['blood_pressure'].mean(), inplace=True)\n"
     ]
    },
    {
     "data": {
      "image/png": "[encoded data removed]",
      "text/plain": [
       "<Figure size 500x300 with 1 Axes>"
      ]
     },
     "metadata": {},
     "output_type": "display_data"
    },
    {
     "data": {
      "image/png": "[encoded data removed]",
      "text/plain": [
       "<Figure size 500x300 with 1 Axes>"
      ]
     },
     "metadata": {},
     "output_type": "display_data"
    },
    {
     "name": "stdout",
     "output_type": "stream",
     "text": [
      "Missing values after handling:\n",
      " Patient_ID         0\n",
      "age                0\n",
      "blood_pressure     0\n",
      "Cholesterol       20\n",
      "Diabetes           0\n",
      "Heart_Disease      0\n",
      "gender_Male        0\n",
      "dtype: int64\n",
      "Duplicate records after cleaning: 0\n",
      "Data types:\n",
      " Patient_ID          int64\n",
      "age               float64\n",
      "blood_pressure    float64\n",
      "Cholesterol       float64\n",
      "Diabetes           object\n",
      "Heart_Disease      object\n",
      "gender_Male          bool\n",
      "dtype: object\n",
      "Cleaned dataset saved as cleaned_healthcare_data.csv\n"
     ]
    }
   ],
   "source": [
    "import pandas as pd\n",
    "import numpy as np\n",
    "from sklearn.preprocessing import MinMaxScaler\n",
    "import matplotlib.pyplot as plt\n",
    "import seaborn as sns\n",
    "\n",
    "# Load the dataset\n",
    "df = pd.read_csv(\"healthcare_data.csv\")\n",
    "\n",
    "# Strip spaces from column names\n",
    "df.columns = df.columns.str.strip()\n",
    "\n",
    "# Rename columns to match expected names\n",
    "df.rename(columns={\n",
    "    'Age': 'age',\n",
    "    'Gender': 'gender',\n",
    "    'Blood_Pressure': 'blood_pressure'\n",
    "}, inplace=True)\n",
    "\n",
    "# Handle Missing Data\n",
    "print(\"Missing values before handling:\\n\", df.isnull().sum())\n",
    "\n",
    "df['age'].fillna(df['age'].median(), inplace=True)\n",
    "df['gender'].fillna(df['gender'].mode()[0], inplace=True)\n",
    "df['blood_pressure'].fillna(df['blood_pressure'].mean(), inplace=True)\n",
    "\n",
    "# Detect and Handle Duplicates\n",
    "duplicates = df.duplicated()\n",
    "print(\"Number of duplicate records:\", duplicates.sum())\n",
    "df = df.drop_duplicates()\n",
    "\n",
    "# Detect and Handle Outliers\n",
    "numeric_columns = ['age', 'blood_pressure']\n",
    "for col in numeric_columns:\n",
    "    plt.figure(figsize=(5, 3))\n",
    "    sns.boxplot(x=df[col])\n",
    "    plt.title(f'Boxplot of {col}')\n",
    "    plt.show()\n",
    "\n",
    "# Handling outliers using capping\n",
    "for col in numeric_columns:\n",
    "    Q1 = df[col].quantile(0.25)\n",
    "    Q3 = df[col].quantile(0.75)\n",
    "    IQR = Q3 - Q1\n",
    "    lower_bound = Q1 - 1.5 * IQR\n",
    "    upper_bound = Q3 + 1.5 * IQR\n",
    "    df[col] = np.where(df[col] < lower_bound, lower_bound, df[col])\n",
    "    df[col] = np.where(df[col] > upper_bound, upper_bound, df[col])\n",
    "\n",
    "# Standardize and Normalize Data\n",
    "categorical_columns = ['gender']\n",
    "df = pd.get_dummies(df, columns=categorical_columns, drop_first=True)\n",
    "\n",
    "scaler = MinMaxScaler()\n",
    "df[['age', 'blood_pressure']] = scaler.fit_transform(df[['age', 'blood_pressure']])\n",
    "\n",
    "# Data Validation\n",
    "print(\"Missing values after handling:\\n\", df.isnull().sum())\n",
    "print(\"Duplicate records after cleaning:\", df.duplicated().sum())\n",
    "print(\"Data types:\\n\", df.dtypes)\n",
    "\n",
    "# Save the cleaned dataset\n",
    "df.to_csv(\"cleaned_healthcare_data.csv\", index=False)\n",
    "print(\"Cleaned dataset saved as cleaned_healthcare_data.csv\")\n"
   ]
  },
  {
   "cell_type": "code",
   "execution_count": null,
   "id": "7d80c2b9-4227-4d2f-a154-983dd903b72c",
   "metadata": {},
   "outputs": [],
   "source": []
  }
 ],
 "metadata": {
  "kernelspec": {
   "display_name": "Python [conda env:base] *",
   "language": "python",
   "name": "conda-base-py"
  },
  "language_info": {
   "codemirror_mode": {
    "name": "ipython",
    "version": 3
   },
   "file_extension": ".py",
   "mimetype": "text/x-python",
   "name": "python",
   "nbconvert_exporter": "python",
   "pygments_lexer": "ipython3",
   "version": "3.12.7"
  }
 },
 "nbformat": 4,
 "nbformat_minor": 5
}
