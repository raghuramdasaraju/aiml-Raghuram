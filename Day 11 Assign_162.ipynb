{
 "cells": [
  {
   "cell_type": "code",
   "execution_count": 1,
   "id": "b0a4fd57-61ba-40f9-ad01-32d9347d4488",
   "metadata": {},
   "outputs": [],
   "source": [
    "import pandas as pd"
   ]
  },
  {
   "cell_type": "code",
   "execution_count": 3,
   "id": "ea70ef7b-a9c0-42d8-8b13-da033b48c9c6",
   "metadata": {},
   "outputs": [],
   "source": [
    "import numpy as np"
   ]
  },
  {
   "cell_type": "code",
   "execution_count": 5,
   "id": "2c531767-23f3-452d-826e-40401e0095b6",
   "metadata": {},
   "outputs": [
    {
     "name": "stdout",
     "output_type": "stream",
     "text": [
      "Top 10 rows sorted by Account_Balance in descending order:\n",
      "          Date       Account_Type    Branch Transaction_Type  \\\n",
      "15  2023-01-03            Savings  Suburban   Service Charge   \n",
      "8   2023-01-20  Recurring Deposit  Downtown   Service Charge   \n",
      "2   2023-01-10            Current    Uptown     Loan Payment   \n",
      "7   2023-01-09            Current   Central     Loan Payment   \n",
      "17  2023-01-07            Current   Central     Loan Payment   \n",
      "1   2023-01-16            Current    Uptown       Withdrawal   \n",
      "19  2023-01-17            Savings   Central          Deposit   \n",
      "18  2023-01-12  Recurring Deposit  Suburban   Service Charge   \n",
      "16  2023-01-02      Fixed Deposit   Central          Deposit   \n",
      "14  2023-01-01      Fixed Deposit  Downtown       Withdrawal   \n",
      "\n",
      "    Transaction_Amount  Account_Balance  \n",
      "15             3350.32         12836.51  \n",
      "8              3899.98         12646.56  \n",
      "2              3363.85         12428.67  \n",
      "7              2346.72         10708.85  \n",
      "17             4116.52          9785.64  \n",
      "1               641.43          8908.39  \n",
      "19             4516.52          8789.19  \n",
      "18             1339.57          8666.74  \n",
      "16             4421.57          8330.40  \n",
      "14             4136.54          8175.08  \n",
      "\n",
      "Data with ranking of Transaction_Amount within each Branch:\n",
      "          Date       Account_Type    Branch Transaction_Type  \\\n",
      "0   2023-01-19      Fixed Deposit   Central     Loan Payment   \n",
      "1   2023-01-16            Current    Uptown       Withdrawal   \n",
      "2   2023-01-10            Current    Uptown     Loan Payment   \n",
      "3   2023-01-18            Savings    Uptown     Loan Payment   \n",
      "4   2023-01-14  Recurring Deposit  Suburban     Loan Payment   \n",
      "5   2023-01-06            Current  Suburban   Service Charge   \n",
      "6   2023-01-04  Recurring Deposit   Central   Service Charge   \n",
      "7   2023-01-09            Current   Central     Loan Payment   \n",
      "8   2023-01-20  Recurring Deposit  Downtown   Service Charge   \n",
      "9   2023-01-11      Fixed Deposit  Downtown          Deposit   \n",
      "10  2023-01-13  Recurring Deposit   Central          Deposit   \n",
      "11  2023-01-08      Fixed Deposit  Suburban   Service Charge   \n",
      "12  2023-01-15      Fixed Deposit    Uptown   Service Charge   \n",
      "13  2023-01-05  Recurring Deposit   Central     Loan Payment   \n",
      "14  2023-01-01      Fixed Deposit  Downtown       Withdrawal   \n",
      "15  2023-01-03            Savings  Suburban   Service Charge   \n",
      "16  2023-01-02      Fixed Deposit   Central          Deposit   \n",
      "17  2023-01-07            Current   Central     Loan Payment   \n",
      "18  2023-01-12  Recurring Deposit  Suburban   Service Charge   \n",
      "19  2023-01-17            Savings   Central          Deposit   \n",
      "\n",
      "    Transaction_Amount  Transaction_Rank  \n",
      "0               985.51               7.0  \n",
      "1               641.43               4.0  \n",
      "2              3363.85               1.0  \n",
      "3              1914.60               2.0  \n",
      "4              2788.57               3.0  \n",
      "5              4584.05               1.0  \n",
      "6              1621.82               6.0  \n",
      "7              2346.72               5.0  \n",
      "8              3899.98               2.0  \n",
      "9              1529.59               3.0  \n",
      "10              846.41               8.0  \n",
      "11             1803.88               4.0  \n",
      "12             1225.50               3.0  \n",
      "13             4683.64               1.0  \n",
      "14             4136.54               1.0  \n",
      "15             3350.32               2.0  \n",
      "16             4421.57               3.0  \n",
      "17             4116.52               4.0  \n",
      "18             1339.57               5.0  \n",
      "19             4516.52               2.0  \n"
     ]
    }
   ],
   "source": [
    "import pandas as pd\n",
    "\n",
    "# Assuming your CSV file is named 'banking_data.csv'\n",
    "df = pd.read_csv('banking_data.csv')\n",
    "\n",
    "# Strip any extra spaces from column names if needed\n",
    "df.columns = df.columns.str.strip()\n",
    "\n",
    "# Task 1: Sort the dataset by Account_Balance in descending order and display the first 10 rows\n",
    "sorted_by_balance = df.sort_values(by='Account_Balance', ascending=False)\n",
    "print(\"Top 10 rows sorted by Account_Balance in descending order:\")\n",
    "print(sorted_by_balance.head(10))\n",
    "\n",
    "# Task 2: Create a ranking column for Transaction_Amount within each Branch\n",
    "df['Transaction_Rank'] = df.groupby('Branch')['Transaction_Amount'].rank(ascending=False)\n",
    "\n",
    "# Display the relevant columns along with the new ranking\n",
    "print(\"\\nData with ranking of Transaction_Amount within each Branch:\")\n",
    "print(df[['Date', 'Account_Type', 'Branch', 'Transaction_Type', 'Transaction_Amount', 'Transaction_Rank']])\n"
   ]
  },
  {
   "cell_type": "code",
   "execution_count": null,
   "id": "96346f2d-b6e9-4995-bc68-32d34908dc90",
   "metadata": {},
   "outputs": [],
   "source": []
  }
 ],
 "metadata": {
  "kernelspec": {
   "display_name": "Python [conda env:base] *",
   "language": "python",
   "name": "conda-base-py"
  },
  "language_info": {
   "codemirror_mode": {
    "name": "ipython",
    "version": 3
   },
   "file_extension": ".py",
   "mimetype": "text/x-python",
   "name": "python",
   "nbconvert_exporter": "python",
   "pygments_lexer": "ipython3",
   "version": "3.12.7"
  }
 },
 "nbformat": 4,
 "nbformat_minor": 5
}
