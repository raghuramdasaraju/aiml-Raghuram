{
 "cells": [
  {
   "cell_type": "code",
   "execution_count": 1,
   "id": "b173ba83-8c25-47e7-b43a-dd7f4f028725",
   "metadata": {},
   "outputs": [
    {
     "name": "stdout",
     "output_type": "stream",
     "text": [
      "List Example:\n",
      "First element: 10\n",
      "Last element: 50\n",
      "Slice (2nd to 4th element): [20, 30, 40]\n",
      "\n",
      "Tuple Example:\n",
      "First element: apple\n",
      "Last element: elderberry\n",
      "Slice (2nd to 4th element): ('banana', 'cherry', 'date')\n",
      "\n",
      "Dictionary Example:\n",
      "Value for 'name': Alice\n",
      "Value for 'city': New York\n",
      "All keys: ['name', 'age', 'city', 'job', 'hobby']\n",
      "All values: ['Alice', 25, 'New York', 'Engineer', 'Painting']\n",
      "\n",
      "Modified List: [10, 20, 35, 40, 50]\n",
      "Accessing the 3rd element in Tuple: cherry\n",
      "Updated Dictionary: {'name': 'Alice', 'age': 25, 'city': 'New York', 'job': 'Engineer', 'hobby': 'Painting', 'country': 'USA'}\n"
     ]
    }
   ],
   "source": [
    "# Create a List, Tuple, and Dictionary\n",
    "my_list = [10, 20, 30, 40, 50]  # List\n",
    "my_tuple = ('apple', 'banana', 'cherry', 'date', 'elderberry')  # Tuple\n",
    "my_dict = {'name': 'Alice', 'age': 25, 'city': 'New York', 'job': 'Engineer', 'hobby': 'Painting'}  # Dictionary\n",
    "\n",
    "# Accessing elements in the List\n",
    "print(\"List Example:\")\n",
    "print(\"First element:\", my_list[0])  # Access first element\n",
    "print(\"Last element:\", my_list[-1])  # Access last element\n",
    "print(\"Slice (2nd to 4th element):\", my_list[1:4])  # Slice list\n",
    "print()\n",
    "\n",
    "# Accessing elements in the Tuple\n",
    "print(\"Tuple Example:\")\n",
    "print(\"First element:\", my_tuple[0])  # Access first element\n",
    "print(\"Last element:\", my_tuple[-1])  # Access last element\n",
    "print(\"Slice (2nd to 4th element):\", my_tuple[1:4])  # Slice tuple\n",
    "print()\n",
    "\n",
    "# Accessing elements in the Dictionary\n",
    "print(\"Dictionary Example:\")\n",
    "print(\"Value for 'name':\", my_dict['name'])  # Access value by key\n",
    "print(\"Value for 'city':\", my_dict['city'])  # Access value by key\n",
    "print(\"All keys:\", list(my_dict.keys()))  # Get all keys\n",
    "print(\"All values:\", list(my_dict.values()))  # Get all values\n",
    "print()\n",
    "\n",
    "# Trying different examples\n",
    "# Modify an element in the List\n",
    "my_list[2] = 35\n",
    "print(\"Modified List:\", my_list)\n",
    "\n",
    "# Tuples are immutable, so we cannot modify elements directly, but we can access them:\n",
    "print(\"Accessing the 3rd element in Tuple:\", my_tuple[2])\n",
    "\n",
    "# Adding a new key-value pair to the Dictionary\n",
    "my_dict['country'] = 'USA'\n",
    "print(\"Updated Dictionary:\", my_dict)\n"
   ]
  },
  {
   "cell_type": "code",
   "execution_count": null,
   "id": "96c3871a-07ad-4177-928c-cdf1998fbf48",
   "metadata": {},
   "outputs": [],
   "source": []
  }
 ],
 "metadata": {
  "kernelspec": {
   "display_name": "Python [conda env:base] *",
   "language": "python",
   "name": "conda-base-py"
  },
  "language_info": {
   "codemirror_mode": {
    "name": "ipython",
    "version": 3
   },
   "file_extension": ".py",
   "mimetype": "text/x-python",
   "name": "python",
   "nbconvert_exporter": "python",
   "pygments_lexer": "ipython3",
   "version": "3.12.7"
  }
 },
 "nbformat": 4,
 "nbformat_minor": 5
}
